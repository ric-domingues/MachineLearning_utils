{
 "cells": [
  {
   "cell_type": "markdown",
   "metadata": {},
   "source": [
    "### Tensorflow MNIST Example\n",
    "In this example, we train a Tensorflow Neural Network to classify images using the MNIST image dataset, which consist of a collection of 70,000 grayscale images of handwritten numbers from 0 to 9, with each image having a size of 28X28 pixels .\n",
    "- MNIST dataset: http://yann.lecun.com/exdb/mnist/ , https://www.tensorflow.org/datasets/catalog/mnist\n",
    "\n",
    "###### >>>>>>>>>>>>>>>>>>>>>>>>>>>>>>>>>>>>>>>>>  Ricardo Marques Domingues [10/15/2020]"
   ]
  },
  {
   "cell_type": "code",
   "execution_count": null,
   "metadata": {},
   "outputs": [],
   "source": [
    "import numpy as np\n",
    "import tensorflow as tf\n",
    "import matplotlib.pyplot as plt\n",
    "import time\n",
    "from IPython import display"
   ]
  },
  {
   "cell_type": "markdown",
   "metadata": {},
   "source": [
    "### Part-1: Loading the MNIST dataset\n",
    "\n",
    "Here, we're already splitting into **train** and **test** subsets. \n",
    "With this call, the MNIST set of images also already comes shuffled."
   ]
  },
  {
   "cell_type": "code",
   "execution_count": 2,
   "metadata": {},
   "outputs": [],
   "source": [
    "(x_train, y_train), (x_test, y_test) = tf.keras.datasets.mnist.load_data()"
   ]
  },
  {
   "cell_type": "code",
   "execution_count": 3,
   "metadata": {},
   "outputs": [],
   "source": [
    "# modifing pixels scale from 0-255 to 0-1\n",
    "x_train, x_test = x_train/255.0, x_test/255.0"
   ]
  },
  {
   "cell_type": "code",
   "execution_count": 4,
   "metadata": {},
   "outputs": [
    {
     "data": {
      "image/png": "[encoded data removed]",
      "text/plain": [
       "<Figure size 432x288 with 2 Axes>"
      ]
     },
     "metadata": {},
     "output_type": "display_data"
    },
    {
     "data": {
      "image/png": "[encoded data removed]",
      "text/plain": [
       "<Figure size 432x288 with 2 Axes>"
      ]
     },
     "metadata": {
      "needs_background": "light"
     },
     "output_type": "display_data"
    }
   ],
   "source": [
    "# This loop quickly displays the 2D 28 x 28 pixels training images, along with their Y labels\n",
    "for i in range(4):#range(len(y_train))\n",
    "    \n",
    "    plt.clf()\n",
    "    plt.imshow(np.squeeze(x_train[i,:,:]))\n",
    "    plt.title('LABEL =  {}\\nShape of IMG = {}'.format(y_train[i],np.squeeze(x_train[i,:,:]).shape) )\n",
    "    plt.colorbar()\n",
    "    time.sleep(2)\n",
    "    display.clear_output(wait=True)\n",
    "    display.display(plt.gcf())    \n",
    "    "
   ]
  },
  {
   "cell_type": "markdown",
   "metadata": {},
   "source": [
    "### Part-2: Building the Neural Network We will use"
   ]
  },
  {
   "cell_type": "code",
   "execution_count": 5,
   "metadata": {},
   "outputs": [],
   "source": [
    "def build_model(hidden_layer_nodes = 100, output_size = 10, input_shape=(28, 28)):\n",
    "\n",
    "    # define how the model will look like\n",
    "    model = tf.keras.Sequential([\n",
    "        # this first input layer transforms the 2D images into 1D vectors\n",
    "        tf.keras.layers.Flatten(input_shape=input_shape), # input layer\n",
    "\n",
    "        # These are the hidden layers\n",
    "        tf.keras.layers.Dense(hidden_layer_nodes, activation='relu'), # 1st hidden layer\n",
    "        tf.keras.layers.Dense(hidden_layer_nodes, activation='relu'), # 2nd hidden layer\n",
    "\n",
    "        tf.keras.layers.Dense(output_size, activation='softmax') # output layer\n",
    "        # the softmax activation function will output a 1D vector of size `output_size``\n",
    "        #  and thaa contains the probabilities that the output belong to individual classes \n",
    "        #  (number between 0 and 9)\n",
    "    ])\n",
    "\n",
    "    model.compile(optimizer='adam', loss='sparse_categorical_crossentropy', metrics=['accuracy'])\n",
    "    \n",
    "    return model"
   ]
  },
  {
   "cell_type": "code",
   "execution_count": 6,
   "metadata": {},
   "outputs": [
    {
     "name": "stdout",
     "output_type": "stream",
     "text": [
      "Model: \"sequential\"\n",
      "_________________________________________________________________\n",
      "Layer (type)                 Output Shape              Param #   \n",
      "=================================================================\n",
      "flatten (Flatten)            (None, 784)               0         \n",
      "_________________________________________________________________\n",
      "dense (Dense)                (None, 50)                39250     \n",
      "_________________________________________________________________\n",
      "dense_1 (Dense)              (None, 50)                2550      \n",
      "_________________________________________________________________\n",
      "dense_2 (Dense)              (None, 10)                510       \n",
      "=================================================================\n",
      "Total params: 42,310\n",
      "Trainable params: 42,310\n",
      "Non-trainable params: 0\n",
      "_________________________________________________________________\n"
     ]
    }
   ],
   "source": [
    "# output size equals to 10, because we are in search of the probabilities that the outputs will be a number from 0 to 9.\n",
    "model = build_model(hidden_layer_nodes = 50,input_shape = x_train[0,:,:].shape, output_size = 10)\n",
    "model.summary()"
   ]
  },
  {
   "cell_type": "markdown",
   "metadata": {},
   "source": [
    "**Trainable params** (e.g. equal to 42,310) indicates the number of individual weights (arrows linking individual nodes in the network input->hidden->hidden->output) that can be optimized to produce the desired target output"
   ]
  },
  {
   "cell_type": "code",
   "execution_count": 13,
   "metadata": {},
   "outputs": [
    {
     "data": {
      "text/plain": [
       "array([[6.1588150e-07, 6.7096784e-07, 1.1205022e-07, 1.3818365e-03,\n",
       "        4.2921374e-15, 9.9861395e-01, 1.3227147e-10, 5.7228973e-09,\n",
       "        1.5380364e-09, 2.7529652e-06]], dtype=float32)"
      ]
     },
     "execution_count": 13,
     "metadata": {},
     "output_type": "execute_result"
    }
   ],
   "source": [
    "# Before training, we can test wheter our model is producing the desired outputs dimensions \n",
    "example_batch = x_train[0:1,:,:]\n",
    "example_result = model.predict(example_batch)\n",
    "example_result"
   ]
  },
  {
   "cell_type": "markdown",
   "metadata": {},
   "source": [
    "`example_result` provides the individual probabilities that the target image is a handwritten number between 0 and 9, and the total sum is 1.\n",
    "\n",
    "**note that** at this stage the neural network has not been trained just yet"
   ]
  },
  {
   "cell_type": "markdown",
   "metadata": {},
   "source": [
    "### Part-3: Training the Neural Network"
   ]
  },
  {
   "cell_type": "code",
   "execution_count": 14,
   "metadata": {},
   "outputs": [
    {
     "name": "stdout",
     "output_type": "stream",
     "text": [
      "Epoch 1/6\n",
      "480/480 [==============================] - 1s 1ms/step - loss: 0.0761 - accuracy: 0.9766 - val_loss: 0.1199 - val_accuracy: 0.9663\n",
      "Epoch 2/6\n",
      "480/480 [==============================] - 1s 1ms/step - loss: 0.0675 - accuracy: 0.9798 - val_loss: 0.1237 - val_accuracy: 0.9654\n",
      "Epoch 3/6\n",
      "480/480 [==============================] - 1s 1ms/step - loss: 0.0617 - accuracy: 0.9809 - val_loss: 0.1221 - val_accuracy: 0.9660\n",
      "Epoch 4/6\n",
      "480/480 [==============================] - 1s 1ms/step - loss: 0.0521 - accuracy: 0.9847 - val_loss: 0.1165 - val_accuracy: 0.9678\n",
      "Epoch 5/6\n",
      "480/480 [==============================] - 1s 1ms/step - loss: 0.0461 - accuracy: 0.9862 - val_loss: 0.1287 - val_accuracy: 0.9643\n",
      "Epoch 6/6\n",
      "480/480 [==============================] - 1s 2ms/step - loss: 0.0429 - accuracy: 0.9871 - val_loss: 0.1267 - val_accuracy: 0.9657\n"
     ]
    },
    {
     "data": {
      "text/plain": [
       "<tensorflow.python.keras.callbacks.History at 0x639425a90>"
      ]
     },
     "execution_count": 14,
     "metadata": {},
     "output_type": "execute_result"
    }
   ],
   "source": [
    "NUM_EPOCHS = 6\n",
    "model.fit(x_train, y_train, epochs=NUM_EPOCHS, validation_split = 0.2, verbose=1,batch_size=100)#,callbacks=tfdocs.modeling.EpochDots())        "
   ]
  },
  {
   "cell_type": "markdown",
   "metadata": {},
   "source": [
    "### Part-4: Evaluate the accuracy of our machine-learning NNs\n",
    "**Note**: Here we use the test dataset to evaluate the overall and final accuracy of the model"
   ]
  },
  {
   "cell_type": "code",
   "execution_count": 15,
   "metadata": {},
   "outputs": [
    {
     "name": "stdout",
     "output_type": "stream",
     "text": [
      "313/313 [==============================] - 0s 1ms/step - loss: 0.1086 - accuracy: 0.9705\n"
     ]
    }
   ],
   "source": [
    "test_loss, test_accuracy = model.evaluate(x_test, y_test)"
   ]
  },
  {
   "cell_type": "markdown",
   "metadata": {},
   "source": [
    "#### We can now visually display the handwritten numbers from the **test** dataset (`x_test`), along the their predicted numeric values, and actual values (`y_test`)"
   ]
  },
  {
   "cell_type": "code",
   "execution_count": 16,
   "metadata": {},
   "outputs": [
    {
     "data": {
      "image/png": "[encoded data removed]",
      "text/plain": [
       "<Figure size 432x288 with 1 Axes>"
      ]
     },
     "metadata": {},
     "output_type": "display_data"
    },
    {
     "data": {
      "image/png": "[encoded data removed]",
      "text/plain": [
       "<Figure size 432x288 with 1 Axes>"
      ]
     },
     "metadata": {
      "needs_background": "light"
     },
     "output_type": "display_data"
    }
   ],
   "source": [
    "# This loop quickly displays the 2D 28 x 28 pixels training images, along with their Y labels\n",
    "for i in range(2):#range(len(y_test))\n",
    "    \n",
    "    test_IMG    = x_test[i:i+1,:,:]\n",
    "    # here we run an individual image through our trained model\n",
    "    # to produce the output probabilities.\n",
    "    num_probs   = model.predict(test_IMG)\n",
    "  \n",
    "    predic_val  = np.argmax(num_probs)\n",
    "    predic_prob = num_probs.max()\n",
    "    \n",
    "    plt.clf()\n",
    "    plt.imshow(np.squeeze(test_IMG),cmap='binary')\n",
    "    plt.axis('off')\n",
    "    plt.title('REAL VALUE =  {}\\n Model Response = {} ({:.1f}% sure)'.format(y_test[i]\\\n",
    "                                                                             ,predic_val,predic_prob*100) )\n",
    "    time.sleep(5)\n",
    "    display.clear_output(wait=True)\n",
    "    display.display(plt.gcf())    \n",
    "    "
   ]
  }
 ],
 "metadata": {
  "kernelspec": {
   "display_name": "Python 3",
   "language": "python",
   "name": "python3"
  },
  "language_info": {
   "codemirror_mode": {
    "name": "ipython",
    "version": 3
   },
   "file_extension": ".py",
   "mimetype": "text/x-python",
   "name": "python",
   "nbconvert_exporter": "python",
   "pygments_lexer": "ipython3",
   "version": "3.7.6"
  }
 },
 "nbformat": 4,
 "nbformat_minor": 4
}
