{
 "cells": [
  {
   "cell_type": "markdown",
   "metadata": {},
   "source": [
    "# Explainer Dashboard Random Forest example\n",
    "In this notebook, a [Random Forest Regression Model](https://scikit-learn.org/stable/modules/generated/sklearn.ensemble.RandomForestRegressor.html) is trained, and the detailed skill assessments, performance, and results are displayed using the interactive dashboard [explainerdashboard](https://explainerdashboard.readthedocs.io/en/latest/)\n",
    "\n",
    "- ExplainerDashboard source code: https://github.com/oegedijk/explainerdashboard\n",
    "- You may install it running: `pip install explainerdashboard`\n",
    "\n",
    "**>>>>>>>>>>>>>>>>>>>>>>>>>>>>>>>>>>>>>>>>> Ricardo M. Domingues [11/23/2020]**"
   ]
  },
  {
   "cell_type": "code",
   "execution_count": 1,
   "metadata": {},
   "outputs": [],
   "source": [
    "from IPython.core.interactiveshell import InteractiveShell\n",
    "\n",
    "from sklearn.ensemble import RandomForestClassifier, RandomForestRegressor\n",
    "from explainerdashboard import ClassifierExplainer, ExplainerDashboard, RegressionExplainer\n",
    "from explainerdashboard.explainers import RandomForestExplainer\n",
    "import xgboost\n",
    "from explainerdashboard.datasets import titanic_survive, titanic_names\n",
    "import pandas as pd\n",
    "import numpy as np\n",
    "\n",
    "InteractiveShell.ast_node_interactivity = \"all\""
   ]
  },
  {
   "cell_type": "markdown",
   "metadata": {},
   "source": [
    "### Part-1: Importing the **titanic_survive** dataset. \n",
    "This dataset is part of the **explainerdashboard** package, and contains specific information about individual passengers of the Titanic such as Fare paid, Class, Age, Ship Deck, and etc.\\\n",
    "Most importantly, it contains information whether the passenger survived `{0 : \"Did not survive\", 1: \"Survived\"}`"
   ]
  },
  {
   "cell_type": "code",
   "execution_count": 2,
   "metadata": {},
   "outputs": [
    {
     "data": {
      "text/html": [
       "<div>\n",
       "<style scoped>\n",
       "    .dataframe tbody tr th:only-of-type {\n",
       "        vertical-align: middle;\n",
       "    }\n",
       "\n",
       "    .dataframe tbody tr th {\n",
       "        vertical-align: top;\n",
       "    }\n",
       "\n",
       "    .dataframe thead th {\n",
       "        text-align: right;\n",
       "    }\n",
       "</style>\n",
       "<table border=\"1\" class=\"dataframe\">\n",
       "  <thead>\n",
       "    <tr style=\"text-align: right;\">\n",
       "      <th></th>\n",
       "      <th>Fare</th>\n",
       "      <th>Age</th>\n",
       "      <th>PassengerClass</th>\n",
       "      <th>No_of_siblings_plus_spouses_on_board</th>\n",
       "      <th>No_of_parents_plus_children_on_board</th>\n",
       "      <th>Sex_female</th>\n",
       "      <th>Sex_male</th>\n",
       "      <th>Sex_nan</th>\n",
       "      <th>Deck_A</th>\n",
       "      <th>Deck_B</th>\n",
       "      <th>...</th>\n",
       "      <th>Deck_D</th>\n",
       "      <th>Deck_E</th>\n",
       "      <th>Deck_F</th>\n",
       "      <th>Deck_G</th>\n",
       "      <th>Deck_T</th>\n",
       "      <th>Deck_Unkown</th>\n",
       "      <th>Embarked_Cherbourg</th>\n",
       "      <th>Embarked_Queenstown</th>\n",
       "      <th>Embarked_Southampton</th>\n",
       "      <th>Embarked_Unknown</th>\n",
       "    </tr>\n",
       "    <tr>\n",
       "      <th>Passenger</th>\n",
       "      <th></th>\n",
       "      <th></th>\n",
       "      <th></th>\n",
       "      <th></th>\n",
       "      <th></th>\n",
       "      <th></th>\n",
       "      <th></th>\n",
       "      <th></th>\n",
       "      <th></th>\n",
       "      <th></th>\n",
       "      <th></th>\n",
       "      <th></th>\n",
       "      <th></th>\n",
       "      <th></th>\n",
       "      <th></th>\n",
       "      <th></th>\n",
       "      <th></th>\n",
       "      <th></th>\n",
       "      <th></th>\n",
       "      <th></th>\n",
       "      <th></th>\n",
       "    </tr>\n",
       "  </thead>\n",
       "  <tbody>\n",
       "    <tr>\n",
       "      <th>Braund, Mr. Owen Harris</th>\n",
       "      <td>7.250</td>\n",
       "      <td>22.0</td>\n",
       "      <td>3</td>\n",
       "      <td>1</td>\n",
       "      <td>0</td>\n",
       "      <td>0</td>\n",
       "      <td>1</td>\n",
       "      <td>0</td>\n",
       "      <td>0</td>\n",
       "      <td>0</td>\n",
       "      <td>...</td>\n",
       "      <td>0</td>\n",
       "      <td>0</td>\n",
       "      <td>0</td>\n",
       "      <td>0</td>\n",
       "      <td>0</td>\n",
       "      <td>1</td>\n",
       "      <td>0</td>\n",
       "      <td>0</td>\n",
       "      <td>1</td>\n",
       "      <td>0</td>\n",
       "    </tr>\n",
       "    <tr>\n",
       "      <th>Heikkinen, Miss. Laina</th>\n",
       "      <td>7.925</td>\n",
       "      <td>26.0</td>\n",
       "      <td>3</td>\n",
       "      <td>0</td>\n",
       "      <td>0</td>\n",
       "      <td>1</td>\n",
       "      <td>0</td>\n",
       "      <td>0</td>\n",
       "      <td>0</td>\n",
       "      <td>0</td>\n",
       "      <td>...</td>\n",
       "      <td>0</td>\n",
       "      <td>0</td>\n",
       "      <td>0</td>\n",
       "      <td>0</td>\n",
       "      <td>0</td>\n",
       "      <td>1</td>\n",
       "      <td>0</td>\n",
       "      <td>0</td>\n",
       "      <td>1</td>\n",
       "      <td>0</td>\n",
       "    </tr>\n",
       "    <tr>\n",
       "      <th>Allen, Mr. William Henry</th>\n",
       "      <td>8.050</td>\n",
       "      <td>35.0</td>\n",
       "      <td>3</td>\n",
       "      <td>0</td>\n",
       "      <td>0</td>\n",
       "      <td>0</td>\n",
       "      <td>1</td>\n",
       "      <td>0</td>\n",
       "      <td>0</td>\n",
       "      <td>0</td>\n",
       "      <td>...</td>\n",
       "      <td>0</td>\n",
       "      <td>0</td>\n",
       "      <td>0</td>\n",
       "      <td>0</td>\n",
       "      <td>0</td>\n",
       "      <td>1</td>\n",
       "      <td>0</td>\n",
       "      <td>0</td>\n",
       "      <td>1</td>\n",
       "      <td>0</td>\n",
       "    </tr>\n",
       "  </tbody>\n",
       "</table>\n",
       "<p>3 rows × 21 columns</p>\n",
       "</div>"
      ],
      "text/plain": [
       "                           Fare   Age  PassengerClass  \\\n",
       "Passenger                                               \n",
       "Braund, Mr. Owen Harris   7.250  22.0               3   \n",
       "Heikkinen, Miss. Laina    7.925  26.0               3   \n",
       "Allen, Mr. William Henry  8.050  35.0               3   \n",
       "\n",
       "                          No_of_siblings_plus_spouses_on_board  \\\n",
       "Passenger                                                        \n",
       "Braund, Mr. Owen Harris                                      1   \n",
       "Heikkinen, Miss. Laina                                       0   \n",
       "Allen, Mr. William Henry                                     0   \n",
       "\n",
       "                          No_of_parents_plus_children_on_board  Sex_female  \\\n",
       "Passenger                                                                    \n",
       "Braund, Mr. Owen Harris                                      0           0   \n",
       "Heikkinen, Miss. Laina                                       0           1   \n",
       "Allen, Mr. William Henry                                     0           0   \n",
       "\n",
       "                          Sex_male  Sex_nan  Deck_A  Deck_B  ...  Deck_D  \\\n",
       "Passenger                                                    ...           \n",
       "Braund, Mr. Owen Harris          1        0       0       0  ...       0   \n",
       "Heikkinen, Miss. Laina           0        0       0       0  ...       0   \n",
       "Allen, Mr. William Henry         1        0       0       0  ...       0   \n",
       "\n",
       "                          Deck_E  Deck_F  Deck_G  Deck_T  Deck_Unkown  \\\n",
       "Passenger                                                               \n",
       "Braund, Mr. Owen Harris        0       0       0       0            1   \n",
       "Heikkinen, Miss. Laina         0       0       0       0            1   \n",
       "Allen, Mr. William Henry       0       0       0       0            1   \n",
       "\n",
       "                          Embarked_Cherbourg  Embarked_Queenstown  \\\n",
       "Passenger                                                           \n",
       "Braund, Mr. Owen Harris                    0                    0   \n",
       "Heikkinen, Miss. Laina                     0                    0   \n",
       "Allen, Mr. William Henry                   0                    0   \n",
       "\n",
       "                          Embarked_Southampton  Embarked_Unknown  \n",
       "Passenger                                                         \n",
       "Braund, Mr. Owen Harris                      1                 0  \n",
       "Heikkinen, Miss. Laina                       1                 0  \n",
       "Allen, Mr. William Henry                     1                 0  \n",
       "\n",
       "[3 rows x 21 columns]"
      ]
     },
     "execution_count": 2,
     "metadata": {},
     "output_type": "execute_result"
    }
   ],
   "source": [
    "X_train, y_train, X_test, y_test = titanic_survive()\n",
    "X_train.head(3)"
   ]
  },
  {
   "cell_type": "markdown",
   "metadata": {},
   "source": [
    "**In this notebook**, instead of focusing on predicting whether the passenger would most likely survive or not, we atempt to predict the **Fare** paid based on other input variables"
   ]
  },
  {
   "cell_type": "code",
   "execution_count": 3,
   "metadata": {},
   "outputs": [],
   "source": [
    "# Replacing the target variables with **Fare** instead\n",
    "y_train = pd.Series(data=X_train['Fare'].values)\n",
    "y_test  = pd.Series(data=X_test['Fare'].values)\n",
    "X_train = X_train.drop(['Fare'],axis=1)\n",
    "X_test = X_test.drop(['Fare'],axis=1)"
   ]
  },
  {
   "cell_type": "code",
   "execution_count": 4,
   "metadata": {},
   "outputs": [],
   "source": [
    "# Uncomment this portion if predicting the Age of passengers instead based on input data\n",
    "# y_train = pd.Series(data=X_train['Age'].values)\n",
    "# y_test  = pd.Series(data=X_test['Age'].values)\n",
    "# X_train = X_train.drop(['Age'],axis=1)\n",
    "# X_test = X_test.drop(['Age'],axis=1)\n",
    "\n",
    "# y_train = y_train.replace(-999,value=np.nan)\n",
    "# y_train = y_train.fillna(y_train.mean())\n",
    "# y_test = y_test.replace(-999,value=np.nan)\n",
    "# y_test = y_test.fillna(y_test.mean())"
   ]
  },
  {
   "cell_type": "markdown",
   "metadata": {},
   "source": [
    "### Part-2: Creating and Traning a **Random Forest** regression model, and training it"
   ]
  },
  {
   "cell_type": "code",
   "execution_count": 5,
   "metadata": {},
   "outputs": [
    {
     "data": {
      "text/plain": [
       "RandomForestRegressor(bootstrap=True, ccp_alpha=0.0, criterion='mse',\n",
       "                      max_depth=None, max_features='auto', max_leaf_nodes=None,\n",
       "                      max_samples=None, min_impurity_decrease=0.0,\n",
       "                      min_impurity_split=None, min_samples_leaf=1,\n",
       "                      min_samples_split=2, min_weight_fraction_leaf=0.0,\n",
       "                      n_estimators=100, n_jobs=None, oob_score=False,\n",
       "                      random_state=None, verbose=0, warm_start=False)"
      ]
     },
     "execution_count": 5,
     "metadata": {},
     "output_type": "execute_result"
    }
   ],
   "source": [
    "model = RandomForestRegressor()\n",
    "model.fit(X_train, y_train)"
   ]
  },
  {
   "cell_type": "markdown",
   "metadata": {},
   "source": [
    "### Part-3: Launching the **ExplainerDashboard** "
   ]
  },
  {
   "cell_type": "code",
   "execution_count": 6,
   "metadata": {},
   "outputs": [
    {
     "name": "stdout",
     "output_type": "stream",
     "text": [
      "Note: shap=='guess' so guessing for RandomForestRegressor shap='tree'...\n",
      "Generating self.shap_explainer = shap.TreeExplainer(model)\n",
      "Changing class type to RandomForestRegressionExplainer...\n",
      "Building ExplainerDashboard..\n",
      "Generating ShadowDecTree for each individual decision tree...\n",
      "Generating layout...\n",
      "Calculating shap values...\n",
      "Calculating predictions...\n",
      "Calculating residuals...\n",
      "Calculating absolute residuals...\n",
      "Calculating dependencies...\n",
      "Calculating importances...\n",
      "Calculating shap interaction values...\n",
      "Registering callbacks...\n"
     ]
    },
    {
     "data": {
      "text/html": [
       "\n",
       "        <iframe\n",
       "            width=\"1000\"\n",
       "            height=\"1000\"\n",
       "            src=\"http://127.0.0.1:8053/\"\n",
       "            frameborder=\"0\"\n",
       "            allowfullscreen\n",
       "        ></iframe>\n",
       "        "
      ],
      "text/plain": [
       "<IPython.lib.display.IFrame at 0x1a24576290>"
      ]
     },
     "metadata": {},
     "output_type": "display_data"
    }
   ],
   "source": [
    "explainer = RegressionExplainer(model, X_test, y_test, target='Fare')\n",
    "db = ExplainerDashboard(explainer, title=\"Predicting Passenger Fare\",mode='inline', width=1000, height=1000)\n",
    "db.run(8053) # running on a specific port 8053"
   ]
  },
  {
   "cell_type": "markdown",
   "metadata": {},
   "source": [
    "### Final Remarks\n",
    "\n",
    "**note #1** To open the dashboard on a separate browser tab, use the code below:\n",
    "\n",
    "`db = ExplainerDashboard(explainer, title=\"Predicting Passenger Fare\")`\\\n",
    "`db.run(8053) # running on a specific port 8053`\n",
    "\n",
    "The dashboard will then be assessible through the link: http://localhost:8053/\n",
    "\n",
    "**note #2:** The dashboard may be launched using a single line of code, as below:\n",
    "\n",
    "`ExplainerDashboard(RegressionExplainer(RandomForestRegressor().fit(X_train, y_train), X_test, y_test)).run()`"
   ]
  }
 ],
 "metadata": {
  "kernelspec": {
   "display_name": "Python 3",
   "language": "python",
   "name": "python3"
  },
  "language_info": {
   "codemirror_mode": {
    "name": "ipython",
    "version": 3
   },
   "file_extension": ".py",
   "mimetype": "text/x-python",
   "name": "python",
   "nbconvert_exporter": "python",
   "pygments_lexer": "ipython3",
   "version": "3.7.6"
  }
 },
 "nbformat": 4,
 "nbformat_minor": 4
}
